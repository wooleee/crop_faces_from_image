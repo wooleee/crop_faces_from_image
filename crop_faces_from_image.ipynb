{
 "metadata": {
  "language_info": {
   "codemirror_mode": {
    "name": "ipython",
    "version": 3
   },
   "file_extension": ".py",
   "mimetype": "text/x-python",
   "name": "python",
   "nbconvert_exporter": "python",
   "pygments_lexer": "ipython3",
   "version": "3.7.3-final"
  },
  "orig_nbformat": 2,
  "kernelspec": {
   "name": "python_defaultSpec_1595202784611",
   "display_name": "Python 3.7.3 64-bit ('woopy37': conda)"
  }
 },
 "nbformat": 4,
 "nbformat_minor": 2,
 "cells": [
  {
   "cell_type": "code",
   "execution_count": 1,
   "metadata": {},
   "outputs": [],
   "source": [
    "# import numpy\n",
    "import numpy as np\n",
    "\n",
    "# module for system control\n",
    "import os\n",
    "import argparse\n",
    "\n",
    "# module for webcam and capturing a webcam screenshot\n",
    "import cv2\n",
    "from PIL import Image\n",
    "\n",
    "# modules for face recognition\n",
    "import face_recognition\n",
    "import pickle"
   ]
  },
  {
   "cell_type": "code",
   "execution_count": 7,
   "metadata": {
    "tags": []
   },
   "outputs": [
    {
     "output_type": "stream",
     "name": "stdout",
     "text": "[INFO] loading face detector model...\n"
    }
   ],
   "source": [
    "# construct the argument parser and parse the arguments\n",
    "INPUT = '/Users/woolee/mldl_project/github/crop_faces_from_image/input_wom'\n",
    "OUTPUT = '/Users/woolee/mldl_project/github/crop_faces_from_image/output_wom'\n",
    "#INPUT = 'input' # directory containing images that have faces\n",
    "#OUTPUT = 'output' # directory of cropped faces\n",
    "MODEL = 'face_detector'\n",
    "CONFIDENCE = 0.5\n",
    "\n",
    "# load the serialized face detector model\n",
    "print(\"[INFO] loading face detector model...\")\n",
    "prototxtPath = os.path.sep.join([MODEL, \"deploy.prototxt\"])\n",
    "weightsPath = os.path.sep.join([MODEL, \"res10_300x300_ssd_iter_140000.caffemodel\"])\n",
    "net = cv2.dnn.readNet(prototxtPath, weightsPath)"
   ]
  },
  {
   "cell_type": "code",
   "execution_count": 8,
   "metadata": {
    "tags": []
   },
   "outputs": [],
   "source": [
    "n = 0\n",
    "for file in os.listdir(INPUT):\n",
    "    # load the input image and grab the image spatial dimensions\n",
    "    image = cv2.imread(f'{INPUT}/{file}')\n",
    "    \n",
    "    # wc - error pass\n",
    "    #while (image is not None):\n",
    "    #print(file)\n",
    "    #print(image)\n",
    "    if (image is None):\n",
    "        pass\n",
    "    else:\n",
    "        (h, w) = image.shape[:2]\n",
    "\n",
    "\n",
    "        # construct a blob from the image\n",
    "        blob = cv2.dnn.blobFromImage(image, 1.0, (300, 300), (104.0, 177.0, 123.0))\n",
    "\n",
    "        # pass the blob through the network and obtain the face detections\n",
    "        net.setInput(blob)\n",
    "        detections = net.forward()\n",
    "\n",
    "        # loop over the detections\n",
    "        for i in range(0, detections.shape[2]):\n",
    "            # extract the confidence (i.e., probability) associated with the detection\n",
    "            confidence = detections[0, 0, i, 2]\n",
    "\n",
    "            # filter out weak detections by ensuring the confidence is greater than the minimum confidence\n",
    "            if confidence > CONFIDENCE:\n",
    "                # compute the (x, y)-coordinates of the bounding box for the object\n",
    "                box = detections[0, 0, i, 3:7] * np.array([w, h, w, h])\n",
    "                (startX, startY, endX, endY) = box.astype(\"int\") # pixels of image\n",
    "\n",
    "                # ensure the bounding boxes fall within the dimensions of the frame\n",
    "                (startX, startY) = (max(0, startX), max(0, startY))\n",
    "                (endX, endY) = (min(w - 1, endX), min(h - 1, endY))\n",
    "                                \n",
    "                # wc - error pass\n",
    "                face = Image.open(f'{INPUT}/{file}').crop((startX, startY, endX, endY))\n",
    "                try:\n",
    "                    face.save(f'{OUTPUT}/face{n}.jpg')\n",
    "                except SystemError:\n",
    "                    pass\n",
    "                except OSError:\n",
    "                    pass\n",
    "    n += 1\n"
   ]
  },
  {
   "cell_type": "code",
   "execution_count": null,
   "metadata": {},
   "outputs": [],
   "source": []
  },
  {
   "cell_type": "code",
   "execution_count": null,
   "metadata": {},
   "outputs": [],
   "source": []
  },
  {
   "cell_type": "code",
   "execution_count": null,
   "metadata": {},
   "outputs": [],
   "source": []
  },
  {
   "cell_type": "code",
   "execution_count": null,
   "metadata": {},
   "outputs": [],
   "source": []
  },
  {
   "cell_type": "code",
   "execution_count": null,
   "metadata": {},
   "outputs": [],
   "source": []
  }
 ]
}